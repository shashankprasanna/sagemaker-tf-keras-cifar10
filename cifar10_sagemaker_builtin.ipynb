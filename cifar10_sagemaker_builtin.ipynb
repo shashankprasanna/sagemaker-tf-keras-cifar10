{
 "cells": [
  {
   "cell_type": "code",
   "execution_count": 1,
   "metadata": {},
   "outputs": [],
   "source": [
    "import sagemaker\n",
    "sagemaker_session = sagemaker.Session()\n",
    "role = sagemaker.get_execution_role()\n"
   ]
  },
  {
   "cell_type": "code",
   "execution_count": 2,
   "metadata": {},
   "outputs": [
    {
     "name": "stdout",
     "output_type": "stream",
     "text": [
      "433757028032.dkr.ecr.us-west-2.amazonaws.com/image-classification:latest\n"
     ]
    }
   ],
   "source": [
    "from sagemaker.amazon.amazon_estimator import get_image_uri\n",
    "\n",
    "training_image = get_image_uri(sagemaker_session.boto_region_name, 'image-classification', repo_version=\"latest\")\n",
    "print (training_image)"
   ]
  },
  {
   "cell_type": "code",
   "execution_count": 3,
   "metadata": {},
   "outputs": [],
   "source": [
    "s3_output_location = 's3://sagemaker-container-webinar/'\n",
    "ic = sagemaker.estimator.Estimator(training_image,\n",
    "                                         role, \n",
    "                                         train_instance_count=1, \n",
    "                                         train_instance_type='ml.p3.2xlarge',\n",
    "                                         input_mode= 'File',\n",
    "                                         output_path=s3_output_location,\n",
    "                                         sagemaker_session=sagemaker_session)"
   ]
  },
  {
   "cell_type": "code",
   "execution_count": 4,
   "metadata": {},
   "outputs": [],
   "source": [
    "ic.set_hyperparameters(num_layers=50,\n",
    "                             image_shape = \"3,32,32\",\n",
    "                             num_classes=10,\n",
    "                             num_training_samples=50000,\n",
    "                             mini_batch_size=256,\n",
    "                             epochs=10,\n",
    "                             learning_rate=0.01,\n",
    "                             precision_dtype='float32')"
   ]
  },
  {
   "cell_type": "code",
   "execution_count": 5,
   "metadata": {},
   "outputs": [],
   "source": [
    "train_path = 's3://sagemaker-container-webinar/cifar10-recordio/train'\n",
    "val_path = 's3://sagemaker-container-webinar/cifar10-recordio/validation'\n",
    "\n",
    "train_data = sagemaker.session.s3_input(train_path, distribution='FullyReplicated', \n",
    "                        content_type='application/x-recordio', s3_data_type='S3Prefix')\n",
    "validation_data = sagemaker.session.s3_input(val_path, distribution='FullyReplicated', \n",
    "                             content_type='application/x-recordio', s3_data_type='S3Prefix')\n",
    "\n",
    "data_channels = {'train': train_data, 'validation': validation_data}"
   ]
  },
  {
   "cell_type": "code",
   "execution_count": 6,
   "metadata": {
    "scrolled": true
   },
   "outputs": [
    {
     "name": "stdout",
     "output_type": "stream",
     "text": [
      "2019-08-20 04:36:28 Starting - Starting the training job...\n",
      "2019-08-20 04:36:30 Starting - Launching requested ML instances.........\n",
      "2019-08-20 04:38:03 Starting - Preparing the instances for training...\n",
      "2019-08-20 04:38:57 Downloading - Downloading input data\n",
      "2019-08-20 04:38:57 Training - Downloading the training image........\n",
      "\u001b[31mDocker entrypoint called with argument(s): train\u001b[0m\n",
      "\u001b[31m[08/20/2019 04:40:08 INFO 139967452378944] Reading default configuration from /opt/amazon/lib/python2.7/site-packages/image_classification/default-input.json: {u'beta_1': 0.9, u'gamma': 0.9, u'beta_2': 0.999, u'optimizer': u'sgd', u'use_pretrained_model': 0, u'eps': 1e-08, u'epochs': 30, u'lr_scheduler_factor': 0.1, u'num_layers': 152, u'image_shape': u'3,224,224', u'precision_dtype': u'float32', u'mini_batch_size': 32, u'weight_decay': 0.0001, u'learning_rate': 0.1, u'momentum': 0}\u001b[0m\n",
      "\u001b[31m[08/20/2019 04:40:08 INFO 139967452378944] Reading provided configuration from /opt/ml/input/config/hyperparameters.json: {u'learning_rate': u'0.01', u'precision_dtype': u'float32', u'epochs': u'10', u'num_training_samples': u'50000', u'num_layers': u'50', u'mini_batch_size': u'256', u'image_shape': u'3,32,32', u'num_classes': u'10'}\u001b[0m\n",
      "\u001b[31m[08/20/2019 04:40:08 INFO 139967452378944] Final configuration: {u'optimizer': u'sgd', u'learning_rate': u'0.01', u'epochs': u'10', u'lr_scheduler_factor': 0.1, u'num_layers': u'50', u'precision_dtype': u'float32', u'mini_batch_size': u'256', u'num_classes': u'10', u'beta_1': 0.9, u'beta_2': 0.999, u'use_pretrained_model': 0, u'eps': 1e-08, u'weight_decay': 0.0001, u'momentum': 0, u'image_shape': u'3,32,32', u'gamma': 0.9, u'num_training_samples': u'50000'}\u001b[0m\n",
      "\u001b[31m[08/20/2019 04:40:08 INFO 139967452378944] Searching for .rec files in /opt/ml/input/data/train.\u001b[0m\n",
      "\u001b[31m[08/20/2019 04:40:08 INFO 139967452378944] Searching for .rec files in /opt/ml/input/data/validation.\u001b[0m\n",
      "\u001b[31m[08/20/2019 04:40:08 INFO 139967452378944] use_pretrained_model: 0\u001b[0m\n",
      "\u001b[31m[08/20/2019 04:40:08 INFO 139967452378944] multi_label: 0\u001b[0m\n",
      "\u001b[31m[08/20/2019 04:40:08 INFO 139967452378944] Performing random weight initialization\u001b[0m\n",
      "\u001b[31m[08/20/2019 04:40:08 INFO 139967452378944] ---- Parameters ----\u001b[0m\n",
      "\u001b[31m[08/20/2019 04:40:08 INFO 139967452378944] num_layers: 50\u001b[0m\n",
      "\u001b[31m[08/20/2019 04:40:08 INFO 139967452378944] data type: <type 'numpy.float32'>\u001b[0m\n",
      "\u001b[31m[08/20/2019 04:40:08 INFO 139967452378944] epochs: 10\u001b[0m\n",
      "\u001b[31m[08/20/2019 04:40:08 INFO 139967452378944] optimizer: sgd\u001b[0m\n",
      "\u001b[31m[08/20/2019 04:40:08 INFO 139967452378944] momentum: 0.9\u001b[0m\n",
      "\u001b[31m[08/20/2019 04:40:08 INFO 139967452378944] weight_decay: 0.0001\u001b[0m\n",
      "\u001b[31m[08/20/2019 04:40:08 INFO 139967452378944] learning_rate: 0.01\u001b[0m\n",
      "\u001b[31m[08/20/2019 04:40:08 INFO 139967452378944] num_training_samples: 50000\u001b[0m\n",
      "\u001b[31m[08/20/2019 04:40:08 INFO 139967452378944] mini_batch_size: 256\u001b[0m\n",
      "\u001b[31m[08/20/2019 04:40:08 INFO 139967452378944] image_shape: 3,32,32\u001b[0m\n",
      "\u001b[31m[08/20/2019 04:40:08 INFO 139967452378944] num_classes: 10\u001b[0m\n",
      "\u001b[31m[08/20/2019 04:40:08 INFO 139967452378944] augmentation_type: None\u001b[0m\n",
      "\u001b[31m[08/20/2019 04:40:08 INFO 139967452378944] kv_store: device\u001b[0m\n",
      "\u001b[31m[08/20/2019 04:40:08 INFO 139967452378944] checkpoint_frequency not set, will store the best model\u001b[0m\n",
      "\u001b[31m[08/20/2019 04:40:08 INFO 139967452378944] --------------------\u001b[0m\n",
      "\u001b[31m[08/20/2019 04:40:08 INFO 139967452378944] Setting number of threads: 7\u001b[0m\n",
      "\n",
      "2019-08-20 04:40:06 Training - Training image download completed. Training in progress.\u001b[31m[04:40:21] /opt/brazil-pkg-cache/packages/MXNetECL/MXNetECL-master.883.0/AL2012/generic-flavor/src/src/operator/nn/./cudnn/./cudnn_algoreg-inl.h:97: Running performance tests to find the best convolution algorithm, this can take a while... (setting env variable MXNET_CUDNN_AUTOTUNE_DEFAULT to 0 to disable)\u001b[0m\n",
      "\u001b[31m[08/20/2019 04:40:28 INFO 139967452378944] Epoch[0] Batch [20]#011Speed: 620.966 samples/sec#011accuracy=0.151228\u001b[0m\n",
      "\u001b[31m[08/20/2019 04:40:33 INFO 139967452378944] Epoch[0] Batch [40]#011Speed: 791.846 samples/sec#011accuracy=0.189310\u001b[0m\n",
      "\u001b[31m[08/20/2019 04:40:38 INFO 139967452378944] Epoch[0] Batch [60]#011Speed: 871.892 samples/sec#011accuracy=0.221504\u001b[0m\n",
      "\u001b[31m[08/20/2019 04:40:42 INFO 139967452378944] Epoch[0] Batch [80]#011Speed: 918.456 samples/sec#011accuracy=0.249807\u001b[0m\n",
      "\u001b[31m[08/20/2019 04:40:47 INFO 139967452378944] Epoch[0] Batch [100]#011Speed: 948.539 samples/sec#011accuracy=0.273051\u001b[0m\n",
      "\u001b[31m[08/20/2019 04:40:52 INFO 139967452378944] Epoch[0] Batch [120]#011Speed: 969.124 samples/sec#011accuracy=0.291387\u001b[0m\n",
      "\u001b[31m[08/20/2019 04:40:57 INFO 139967452378944] Epoch[0] Batch [140]#011Speed: 984.961 samples/sec#011accuracy=0.306710\u001b[0m\n",
      "\u001b[31m[08/20/2019 04:41:01 INFO 139967452378944] Epoch[0] Batch [160]#011Speed: 997.259 samples/sec#011accuracy=0.320943\u001b[0m\n",
      "\u001b[31m[08/20/2019 04:41:06 INFO 139967452378944] Epoch[0] Batch [180]#011Speed: 1006.729 samples/sec#011accuracy=0.334362\u001b[0m\n",
      "\u001b[31m[08/20/2019 04:41:09 INFO 139967452378944] Epoch[0] Train-accuracy=0.343470\u001b[0m\n",
      "\u001b[31m[08/20/2019 04:41:09 INFO 139967452378944] Epoch[0] Time cost=49.023\u001b[0m\n",
      "\u001b[31m[08/20/2019 04:41:13 INFO 139967452378944] Epoch[0] Validation-accuracy=0.446777\u001b[0m\n",
      "\u001b[31m[08/20/2019 04:41:13 INFO 139967452378944] Storing the best model with validation accuracy: 0.446777\u001b[0m\n",
      "\u001b[31m[08/20/2019 04:41:14 INFO 139967452378944] Saved checkpoint to \"/opt/ml/model/image-classification-0001.params\"\u001b[0m\n",
      "\u001b[31m[08/20/2019 04:41:18 INFO 139967452378944] Epoch[1] Batch [20]#011Speed: 1064.084 samples/sec#011accuracy=0.470052\u001b[0m\n",
      "\u001b[31m[08/20/2019 04:41:23 INFO 139967452378944] Epoch[1] Batch [40]#011Speed: 1076.615 samples/sec#011accuracy=0.469322\u001b[0m\n",
      "\u001b[31m[08/20/2019 04:41:28 INFO 139967452378944] Epoch[1] Batch [60]#011Speed: 1081.926 samples/sec#011accuracy=0.474001\u001b[0m\n",
      "\u001b[31m[08/20/2019 04:41:33 INFO 139967452378944] Epoch[1] Batch [80]#011Speed: 1082.811 samples/sec#011accuracy=0.479504\u001b[0m\n",
      "\u001b[31m[08/20/2019 04:41:37 INFO 139967452378944] Epoch[1] Batch [100]#011Speed: 1083.980 samples/sec#011accuracy=0.485574\u001b[0m\n",
      "\u001b[31m[08/20/2019 04:41:42 INFO 139967452378944] Epoch[1] Batch [120]#011Speed: 1085.100 samples/sec#011accuracy=0.488475\u001b[0m\n",
      "\u001b[31m[08/20/2019 04:41:47 INFO 139967452378944] Epoch[1] Batch [140]#011Speed: 1085.967 samples/sec#011accuracy=0.493213\u001b[0m\n",
      "\u001b[31m[08/20/2019 04:41:51 INFO 139967452378944] Epoch[1] Batch [160]#011Speed: 1086.667 samples/sec#011accuracy=0.496894\u001b[0m\n",
      "\u001b[31m[08/20/2019 04:41:56 INFO 139967452378944] Epoch[1] Batch [180]#011Speed: 1087.086 samples/sec#011accuracy=0.502870\u001b[0m\n",
      "\u001b[31m[08/20/2019 04:41:59 INFO 139967452378944] Epoch[1] Train-accuracy=0.506110\u001b[0m\n",
      "\u001b[31m[08/20/2019 04:41:59 INFO 139967452378944] Epoch[1] Time cost=45.641\u001b[0m\n",
      "\u001b[31m[08/20/2019 04:42:03 INFO 139967452378944] Epoch[1] Validation-accuracy=0.537660\u001b[0m\n",
      "\u001b[31m[08/20/2019 04:42:03 INFO 139967452378944] Storing the best model with validation accuracy: 0.537660\u001b[0m\n",
      "\u001b[31m[08/20/2019 04:42:04 INFO 139967452378944] Saved checkpoint to \"/opt/ml/model/image-classification-0002.params\"\u001b[0m\n",
      "\u001b[31m[08/20/2019 04:42:08 INFO 139967452378944] Epoch[2] Batch [20]#011Speed: 1061.733 samples/sec#011accuracy=0.564546\u001b[0m\n",
      "\u001b[31m[08/20/2019 04:42:13 INFO 139967452378944] Epoch[2] Batch [40]#011Speed: 1075.035 samples/sec#011accuracy=0.561547\u001b[0m\n",
      "\u001b[31m[08/20/2019 04:42:18 INFO 139967452378944] Epoch[2] Batch [60]#011Speed: 1080.371 samples/sec#011accuracy=0.563717\u001b[0m\n",
      "\u001b[31m[08/20/2019 04:42:22 INFO 139967452378944] Epoch[2] Batch [80]#011Speed: 1082.960 samples/sec#011accuracy=0.569493\u001b[0m\n",
      "\u001b[31m[08/20/2019 04:42:27 INFO 139967452378944] Epoch[2] Batch [100]#011Speed: 1084.620 samples/sec#011accuracy=0.575611\u001b[0m\n",
      "\u001b[31m[08/20/2019 04:42:32 INFO 139967452378944] Epoch[2] Batch [120]#011Speed: 1085.522 samples/sec#011accuracy=0.579287\u001b[0m\n",
      "\u001b[31m[08/20/2019 04:42:37 INFO 139967452378944] Epoch[2] Batch [140]#011Speed: 1086.117 samples/sec#011accuracy=0.581837\u001b[0m\n",
      "\u001b[31m[08/20/2019 04:42:41 INFO 139967452378944] Epoch[2] Batch [160]#011Speed: 1086.861 samples/sec#011accuracy=0.586520\u001b[0m\n",
      "\u001b[31m[08/20/2019 04:42:46 INFO 139967452378944] Epoch[2] Batch [180]#011Speed: 1087.112 samples/sec#011accuracy=0.591074\u001b[0m\n",
      "\u001b[31m[08/20/2019 04:42:49 INFO 139967452378944] Epoch[2] Train-accuracy=0.593670\u001b[0m\n",
      "\u001b[31m[08/20/2019 04:42:49 INFO 139967452378944] Epoch[2] Time cost=45.651\u001b[0m\n",
      "\u001b[31m[08/20/2019 04:42:53 INFO 139967452378944] Epoch[2] Validation-accuracy=0.581631\u001b[0m\n",
      "\u001b[31m[08/20/2019 04:42:53 INFO 139967452378944] Storing the best model with validation accuracy: 0.581631\u001b[0m\n",
      "\u001b[31m[08/20/2019 04:42:53 INFO 139967452378944] Saved checkpoint to \"/opt/ml/model/image-classification-0003.params\"\u001b[0m\n",
      "\u001b[31m[08/20/2019 04:42:58 INFO 139967452378944] Epoch[3] Batch [20]#011Speed: 1063.957 samples/sec#011accuracy=0.637649\u001b[0m\n",
      "\u001b[31m[08/20/2019 04:43:03 INFO 139967452378944] Epoch[3] Batch [40]#011Speed: 1075.794 samples/sec#011accuracy=0.639196\u001b[0m\n",
      "\u001b[31m[08/20/2019 04:43:08 INFO 139967452378944] Epoch[3] Batch [60]#011Speed: 1079.269 samples/sec#011accuracy=0.642994\u001b[0m\n",
      "\u001b[31m[08/20/2019 04:43:12 INFO 139967452378944] Epoch[3] Batch [80]#011Speed: 1081.681 samples/sec#011accuracy=0.646750\u001b[0m\n",
      "\u001b[31m[08/20/2019 04:43:17 INFO 139967452378944] Epoch[3] Batch [100]#011Speed: 1082.235 samples/sec#011accuracy=0.648824\u001b[0m\n",
      "\u001b[31m[08/20/2019 04:43:22 INFO 139967452378944] Epoch[3] Batch [120]#011Speed: 1083.229 samples/sec#011accuracy=0.652344\u001b[0m\n",
      "\u001b[31m[08/20/2019 04:43:26 INFO 139967452378944] Epoch[3] Batch [140]#011Speed: 1084.139 samples/sec#011accuracy=0.655585\u001b[0m\n",
      "\u001b[31m[08/20/2019 04:43:31 INFO 139967452378944] Epoch[3] Batch [160]#011Speed: 1084.994 samples/sec#011accuracy=0.659598\u001b[0m\n",
      "\u001b[31m[08/20/2019 04:43:36 INFO 139967452378944] Epoch[3] Batch [180]#011Speed: 1085.530 samples/sec#011accuracy=0.663415\u001b[0m\n",
      "\u001b[31m[08/20/2019 04:43:39 INFO 139967452378944] Epoch[3] Train-accuracy=0.666887\u001b[0m\n",
      "\u001b[31m[08/20/2019 04:43:39 INFO 139967452378944] Epoch[3] Time cost=45.702\u001b[0m\n",
      "\u001b[31m[08/20/2019 04:43:43 INFO 139967452378944] Epoch[3] Validation-accuracy=0.622897\u001b[0m\n",
      "\u001b[31m[08/20/2019 04:43:43 INFO 139967452378944] Storing the best model with validation accuracy: 0.622897\u001b[0m\n",
      "\u001b[31m[08/20/2019 04:43:43 INFO 139967452378944] Saved checkpoint to \"/opt/ml/model/image-classification-0004.params\"\u001b[0m\n",
      "\u001b[31m[08/20/2019 04:43:48 INFO 139967452378944] Epoch[4] Batch [20]#011Speed: 1063.567 samples/sec#011accuracy=0.709821\u001b[0m\n",
      "\u001b[31m[08/20/2019 04:43:53 INFO 139967452378944] Epoch[4] Batch [40]#011Speed: 1076.604 samples/sec#011accuracy=0.717226\u001b[0m\n",
      "\u001b[31m[08/20/2019 04:43:58 INFO 139967452378944] Epoch[4] Batch [60]#011Speed: 1081.206 samples/sec#011accuracy=0.721824\u001b[0m\n",
      "\u001b[31m[08/20/2019 04:44:02 INFO 139967452378944] Epoch[4] Batch [80]#011Speed: 1083.142 samples/sec#011accuracy=0.724633\u001b[0m\n",
      "\u001b[31m[08/20/2019 04:44:07 INFO 139967452378944] Epoch[4] Batch [100]#011Speed: 1084.540 samples/sec#011accuracy=0.727645\u001b[0m\n",
      "\u001b[31m[08/20/2019 04:44:12 INFO 139967452378944] Epoch[4] Batch [120]#011Speed: 1085.614 samples/sec#011accuracy=0.729791\u001b[0m\n",
      "\u001b[31m[08/20/2019 04:44:16 INFO 139967452378944] Epoch[4] Batch [140]#011Speed: 1086.148 samples/sec#011accuracy=0.732630\u001b[0m\n",
      "\u001b[31m[08/20/2019 04:44:21 INFO 139967452378944] Epoch[4] Batch [160]#011Speed: 1086.783 samples/sec#011accuracy=0.736801\u001b[0m\n",
      "\u001b[31m[08/20/2019 04:44:26 INFO 139967452378944] Epoch[4] Batch [180]#011Speed: 1087.174 samples/sec#011accuracy=0.739101\u001b[0m\n",
      "\u001b[31m[08/20/2019 04:44:29 INFO 139967452378944] Epoch[4] Train-accuracy=0.740565\u001b[0m\n",
      "\u001b[31m[08/20/2019 04:44:29 INFO 139967452378944] Epoch[4] Time cost=45.644\u001b[0m\n",
      "\u001b[31m[08/20/2019 04:44:33 INFO 139967452378944] Epoch[4] Validation-accuracy=0.638121\u001b[0m\n",
      "\u001b[31m[08/20/2019 04:44:33 INFO 139967452378944] Storing the best model with validation accuracy: 0.638121\u001b[0m\n",
      "\u001b[31m[08/20/2019 04:44:33 INFO 139967452378944] Saved checkpoint to \"/opt/ml/model/image-classification-0005.params\"\u001b[0m\n",
      "\u001b[31m[08/20/2019 04:44:38 INFO 139967452378944] Epoch[5] Batch [20]#011Speed: 1064.434 samples/sec#011accuracy=0.767857\u001b[0m\n",
      "\u001b[31m[08/20/2019 04:44:43 INFO 139967452378944] Epoch[5] Batch [40]#011Speed: 1078.001 samples/sec#011accuracy=0.777439\u001b[0m\n",
      "\u001b[31m[08/20/2019 04:44:48 INFO 139967452378944] Epoch[5] Batch [60]#011Speed: 1082.841 samples/sec#011accuracy=0.781698\u001b[0m\n",
      "\u001b[31m[08/20/2019 04:44:52 INFO 139967452378944] Epoch[5] Batch [80]#011Speed: 1084.566 samples/sec#011accuracy=0.782938\u001b[0m\n",
      "\u001b[31m[08/20/2019 04:44:57 INFO 139967452378944] Epoch[5] Batch [100]#011Speed: 1085.972 samples/sec#011accuracy=0.784653\u001b[0m\n",
      "\u001b[31m[08/20/2019 04:45:02 INFO 139967452378944] Epoch[5] Batch [120]#011Speed: 1087.116 samples/sec#011accuracy=0.786609\u001b[0m\n",
      "\u001b[31m[08/20/2019 04:45:06 INFO 139967452378944] Epoch[5] Batch [140]#011Speed: 1087.623 samples/sec#011accuracy=0.788730\u001b[0m\n",
      "\u001b[31m[08/20/2019 04:45:11 INFO 139967452378944] Epoch[5] Batch [160]#011Speed: 1087.949 samples/sec#011accuracy=0.791028\u001b[0m\n",
      "\u001b[31m[08/20/2019 04:45:16 INFO 139967452378944] Epoch[5] Batch [180]#011Speed: 1088.280 samples/sec#011accuracy=0.794242\u001b[0m\n",
      "\u001b[31m[08/20/2019 04:45:19 INFO 139967452378944] Epoch[5] Train-accuracy=0.796815\u001b[0m\n",
      "\u001b[31m[08/20/2019 04:45:19 INFO 139967452378944] Epoch[5] Time cost=45.601\u001b[0m\n",
      "\u001b[31m[08/20/2019 04:45:23 INFO 139967452378944] Epoch[5] Validation-accuracy=0.623197\u001b[0m\n",
      "\u001b[31m[08/20/2019 04:45:28 INFO 139967452378944] Epoch[6] Batch [20]#011Speed: 1065.158 samples/sec#011accuracy=0.831845\u001b[0m\n",
      "\u001b[31m[08/20/2019 04:45:33 INFO 139967452378944] Epoch[6] Batch [40]#011Speed: 1077.779 samples/sec#011accuracy=0.829554\u001b[0m\n",
      "\u001b[31m[08/20/2019 04:45:37 INFO 139967452378944] Epoch[6] Batch [60]#011Speed: 1082.260 samples/sec#011accuracy=0.828317\u001b[0m\n",
      "\u001b[31m[08/20/2019 04:45:42 INFO 139967452378944] Epoch[6] Batch [80]#011Speed: 1084.253 samples/sec#011accuracy=0.834491\u001b[0m\n",
      "\u001b[31m[08/20/2019 04:45:47 INFO 139967452378944] Epoch[6] Batch [100]#011Speed: 1085.396 samples/sec#011accuracy=0.839302\u001b[0m\n",
      "\u001b[31m[08/20/2019 04:45:51 INFO 139967452378944] Epoch[6] Batch [120]#011Speed: 1086.022 samples/sec#011accuracy=0.844977\u001b[0m\n",
      "\u001b[31m[08/20/2019 04:45:56 INFO 139967452378944] Epoch[6] Batch [140]#011Speed: 1086.638 samples/sec#011accuracy=0.847130\u001b[0m\n",
      "\u001b[31m[08/20/2019 04:46:01 INFO 139967452378944] Epoch[6] Batch [160]#011Speed: 1086.698 samples/sec#011accuracy=0.849355\u001b[0m\n",
      "\u001b[31m[08/20/2019 04:46:06 INFO 139967452378944] Epoch[6] Batch [180]#011Speed: 1086.526 samples/sec#011accuracy=0.851778\u001b[0m\n",
      "\u001b[31m[08/20/2019 04:46:09 INFO 139967452378944] Epoch[6] Train-accuracy=0.853085\u001b[0m\n",
      "\u001b[31m[08/20/2019 04:46:09 INFO 139967452378944] Epoch[6] Time cost=45.679\u001b[0m\n",
      "\u001b[31m[08/20/2019 04:46:13 INFO 139967452378944] Epoch[6] Validation-accuracy=0.599259\u001b[0m\n",
      "\u001b[31m[08/20/2019 04:46:18 INFO 139967452378944] Epoch[7] Batch [20]#011Speed: 1061.435 samples/sec#011accuracy=0.870722\u001b[0m\n",
      "\u001b[31m[08/20/2019 04:46:23 INFO 139967452378944] Epoch[7] Batch [40]#011Speed: 1073.966 samples/sec#011accuracy=0.873761\u001b[0m\n",
      "\u001b[31m[08/20/2019 04:46:27 INFO 139967452378944] Epoch[7] Batch [60]#011Speed: 1078.552 samples/sec#011accuracy=0.876921\u001b[0m\n",
      "\u001b[31m[08/20/2019 04:46:32 INFO 139967452378944] Epoch[7] Batch [80]#011Speed: 1081.197 samples/sec#011accuracy=0.880980\u001b[0m\n",
      "\u001b[31m[08/20/2019 04:46:37 INFO 139967452378944] Epoch[7] Batch [100]#011Speed: 1082.830 samples/sec#011accuracy=0.884978\u001b[0m\n",
      "\u001b[31m[08/20/2019 04:46:41 INFO 139967452378944] Epoch[7] Batch [120]#011Speed: 1084.034 samples/sec#011accuracy=0.887364\u001b[0m\n",
      "\u001b[31m[08/20/2019 04:46:46 INFO 139967452378944] Epoch[7] Batch [140]#011Speed: 1084.891 samples/sec#011accuracy=0.888686\u001b[0m\n",
      "\u001b[31m[08/20/2019 04:46:51 INFO 139967452378944] Epoch[7] Batch [160]#011Speed: 1085.541 samples/sec#011accuracy=0.889315\u001b[0m\n",
      "\u001b[31m[08/20/2019 04:46:55 INFO 139967452378944] Epoch[7] Batch [180]#011Speed: 1085.945 samples/sec#011accuracy=0.889762\u001b[0m\n",
      "\u001b[31m[08/20/2019 04:46:59 INFO 139967452378944] Epoch[7] Train-accuracy=0.889663\u001b[0m\n",
      "\u001b[31m[08/20/2019 04:46:59 INFO 139967452378944] Epoch[7] Time cost=45.691\u001b[0m\n",
      "\u001b[31m[08/20/2019 04:47:02 INFO 139967452378944] Epoch[7] Validation-accuracy=0.646935\u001b[0m\n",
      "\u001b[31m[08/20/2019 04:47:03 INFO 139967452378944] Storing the best model with validation accuracy: 0.646935\u001b[0m\n",
      "\u001b[31m[08/20/2019 04:47:03 INFO 139967452378944] Saved checkpoint to \"/opt/ml/model/image-classification-0008.params\"\u001b[0m\n",
      "\u001b[31m[08/20/2019 04:47:08 INFO 139967452378944] Epoch[8] Batch [20]#011Speed: 1061.012 samples/sec#011accuracy=0.900298\u001b[0m\n",
      "\u001b[31m[08/20/2019 04:47:12 INFO 139967452378944] Epoch[8] Batch [40]#011Speed: 1074.529 samples/sec#011accuracy=0.898152\u001b[0m\n",
      "\u001b[31m[08/20/2019 04:47:17 INFO 139967452378944] Epoch[8] Batch [60]#011Speed: 1079.422 samples/sec#011accuracy=0.897861\u001b[0m\n",
      "\u001b[31m[08/20/2019 04:47:22 INFO 139967452378944] Epoch[8] Batch [80]#011Speed: 1082.234 samples/sec#011accuracy=0.901235\u001b[0m\n",
      "\u001b[31m[08/20/2019 04:47:27 INFO 139967452378944] Epoch[8] Batch [100]#011Speed: 1083.882 samples/sec#011accuracy=0.903659\u001b[0m\n",
      "\u001b[31m[08/20/2019 04:47:31 INFO 139967452378944] Epoch[8] Batch [120]#011Speed: 1084.932 samples/sec#011accuracy=0.905572\u001b[0m\n",
      "\u001b[31m[08/20/2019 04:47:36 INFO 139967452378944] Epoch[8] Batch [140]#011Speed: 1084.959 samples/sec#011accuracy=0.906416\u001b[0m\n",
      "\u001b[31m[08/20/2019 04:47:41 INFO 139967452378944] Epoch[8] Batch [160]#011Speed: 1085.379 samples/sec#011accuracy=0.906420\u001b[0m\n",
      "\u001b[31m[08/20/2019 04:47:45 INFO 139967452378944] Epoch[8] Batch [180]#011Speed: 1085.854 samples/sec#011accuracy=0.907890\u001b[0m\n",
      "\u001b[31m[08/20/2019 04:47:49 INFO 139967452378944] Epoch[8] Train-accuracy=0.908233\u001b[0m\n",
      "\u001b[31m[08/20/2019 04:47:49 INFO 139967452378944] Epoch[8] Time cost=45.700\u001b[0m\n",
      "\u001b[31m[08/20/2019 04:47:52 INFO 139967452378944] Epoch[8] Validation-accuracy=0.631410\u001b[0m\n",
      "\u001b[31m[08/20/2019 04:47:58 INFO 139967452378944] Epoch[9] Batch [20]#011Speed: 1063.927 samples/sec#011accuracy=0.933780\u001b[0m\n",
      "\u001b[31m[08/20/2019 04:48:02 INFO 139967452378944] Epoch[9] Batch [40]#011Speed: 1074.962 samples/sec#011accuracy=0.933594\u001b[0m\n",
      "\u001b[31m[08/20/2019 04:48:07 INFO 139967452378944] Epoch[9] Batch [60]#011Speed: 1079.038 samples/sec#011accuracy=0.931352\u001b[0m\n",
      "\u001b[31m[08/20/2019 04:48:12 INFO 139967452378944] Epoch[9] Batch [80]#011Speed: 1081.801 samples/sec#011accuracy=0.929880\u001b[0m\n",
      "\u001b[31m[08/20/2019 04:48:16 INFO 139967452378944] Epoch[9] Batch [100]#011Speed: 1083.515 samples/sec#011accuracy=0.931273\u001b[0m\n",
      "\u001b[31m[08/20/2019 04:48:21 INFO 139967452378944] Epoch[9] Batch [120]#011Speed: 1084.744 samples/sec#011accuracy=0.932109\u001b[0m\n",
      "\u001b[31m[08/20/2019 04:48:26 INFO 139967452378944] Epoch[9] Batch [140]#011Speed: 1085.477 samples/sec#011accuracy=0.934203\u001b[0m\n",
      "\u001b[31m[08/20/2019 04:48:31 INFO 139967452378944] Epoch[9] Batch [160]#011Speed: 1086.396 samples/sec#011accuracy=0.936578\u001b[0m\n",
      "\u001b[31m[08/20/2019 04:48:35 INFO 139967452378944] Epoch[9] Batch [180]#011Speed: 1086.522 samples/sec#011accuracy=0.938406\u001b[0m\n",
      "\u001b[31m[08/20/2019 04:48:38 INFO 139967452378944] Epoch[9] Train-accuracy=0.939543\u001b[0m\n",
      "\u001b[31m[08/20/2019 04:48:38 INFO 139967452378944] Epoch[9] Time cost=45.664\u001b[0m\n",
      "\u001b[31m[08/20/2019 04:48:42 INFO 139967452378944] Epoch[9] Validation-accuracy=0.654147\u001b[0m\n",
      "\u001b[31m[08/20/2019 04:48:42 INFO 139967452378944] Storing the best model with validation accuracy: 0.654147\u001b[0m\n",
      "\u001b[31m[08/20/2019 04:48:43 INFO 139967452378944] Saved checkpoint to \"/opt/ml/model/image-classification-0010.params\"\u001b[0m\n",
      "\n",
      "2019-08-20 04:49:04 Uploading - Uploading generated training model\n",
      "2019-08-20 04:49:04 Completed - Training job completed\n",
      "Billable seconds: 624\n"
     ]
    }
   ],
   "source": [
    "ic.fit(inputs=data_channels, logs=True)"
   ]
  },
  {
   "cell_type": "code",
   "execution_count": 7,
   "metadata": {},
   "outputs": [
    {
     "name": "stdout",
     "output_type": "stream",
     "text": [
      "---------------------------------------------------------------------------------------!"
     ]
    }
   ],
   "source": [
    "predictor = ic.deploy(initial_instance_count = 1, instance_type = 'ml.c5.large')"
   ]
  },
  {
   "cell_type": "code",
   "execution_count": 41,
   "metadata": {},
   "outputs": [
    {
     "data": {
      "image/png": "[encoded data removed]",
      "text/plain": [
       "<IPython.core.display.Image object>"
      ]
     },
     "metadata": {},
     "output_type": "display_data"
    },
    {
     "name": "stdout",
     "output_type": "stream",
     "text": [
      "sample-img/1009_frog.png\n"
     ]
    },
    {
     "data": {
      "image/png": "[encoded data removed]",
      "text/plain": [
       "<IPython.core.display.Image object>"
      ]
     },
     "metadata": {},
     "output_type": "display_data"
    },
    {
     "name": "stdout",
     "output_type": "stream",
     "text": [
      "sample-img/1008_truck.png\n"
     ]
    },
    {
     "data": {
      "image/png": "[encoded data removed]",
      "text/plain": [
       "<IPython.core.display.Image object>"
      ]
     },
     "metadata": {},
     "output_type": "display_data"
    },
    {
     "name": "stdout",
     "output_type": "stream",
     "text": [
      "sample-img/1014_cat.png\n"
     ]
    },
    {
     "data": {
      "image/png": "[encoded data removed]",
      "text/plain": [
       "<IPython.core.display.Image object>"
      ]
     },
     "metadata": {},
     "output_type": "display_data"
    },
    {
     "name": "stdout",
     "output_type": "stream",
     "text": [
      "sample-img/1003_deer.png\n"
     ]
    },
    {
     "data": {
      "image/png": "[encoded data removed]",
      "text/plain": [
       "<IPython.core.display.Image object>"
      ]
     },
     "metadata": {},
     "output_type": "display_data"
    },
    {
     "name": "stdout",
     "output_type": "stream",
     "text": [
      "sample-img/1004_ship.png\n"
     ]
    },
    {
     "data": {
      "image/png": "[encoded data removed]",
      "text/plain": [
       "<IPython.core.display.Image object>"
      ]
     },
     "metadata": {},
     "output_type": "display_data"
    },
    {
     "name": "stdout",
     "output_type": "stream",
     "text": [
      "sample-img/1000_dog.png\n"
     ]
    },
    {
     "data": {
      "image/png": "[encoded data removed]",
      "text/plain": [
       "<IPython.core.display.Image object>"
      ]
     },
     "metadata": {},
     "output_type": "display_data"
    },
    {
     "name": "stdout",
     "output_type": "stream",
     "text": [
      "sample-img/1005_automobile.png\n"
     ]
    },
    {
     "data": {
      "image/png": "[encoded data removed]",
      "text/plain": [
       "<IPython.core.display.Image object>"
      ]
     },
     "metadata": {},
     "output_type": "display_data"
    },
    {
     "name": "stdout",
     "output_type": "stream",
     "text": [
      "sample-img/1038_bird.png\n"
     ]
    },
    {
     "data": {
      "image/png": "[encoded data removed]",
      "text/plain": [
       "<IPython.core.display.Image object>"
      ]
     },
     "metadata": {},
     "output_type": "display_data"
    },
    {
     "name": "stdout",
     "output_type": "stream",
     "text": [
      "sample-img/1001_airplane.png\n"
     ]
    },
    {
     "data": {
      "image/png": "[encoded data removed]",
      "text/plain": [
       "<IPython.core.display.Image object>"
      ]
     },
     "metadata": {},
     "output_type": "display_data"
    },
    {
     "name": "stdout",
     "output_type": "stream",
     "text": [
      "sample-img/1037_horse.png\n"
     ]
    }
   ],
   "source": [
    "from IPython.display import Image, display\n",
    "import os\n",
    "import numpy as np\n",
    "import json\n",
    "\n",
    "labels = ['airplane','automobile','bird','cat','deer','dog','frog','horse','ship','truck']\n",
    "images = []\n",
    "for entry in os.scandir('sample-img'):\n",
    "    if entry.is_file() and entry.name.endswith(\"png\"):\n",
    "        images.append('sample-img/' + entry.name)\n",
    "\n",
    "for image in images:\n",
    "    display(Image(image))\n",
    "    print(image)"
   ]
  },
  {
   "cell_type": "code",
   "execution_count": 44,
   "metadata": {},
   "outputs": [],
   "source": [
    "predictor.content_type = 'application/x-image'\n",
    "predictor.serializer = None\n",
    "\n",
    "labels = ['airplane','automobile','bird','cat','deer','dog','frog','horse','ship','truck']\n",
    "\n",
    "def get_prediction(file_path):\n",
    "    \n",
    "    with open(file_path, \"rb\") as image:\n",
    "        f = image.read()\n",
    "    b = bytearray(f)\n",
    "    pred = json.loads(predictor.predict(b))\n",
    "    return labels[np.argmax(pred)]"
   ]
  },
  {
   "cell_type": "code",
   "execution_count": 62,
   "metadata": {},
   "outputs": [
    {
     "name": "stdout",
     "output_type": "stream",
     "text": [
      "Predictions \t\t\t Actual\n",
      "horse     \t sample-img/1009_frog.png\n",
      "truck     \t sample-img/1008_truck.png\n",
      "cat     \t sample-img/1014_cat.png\n",
      "deer     \t sample-img/1003_deer.png\n",
      "airplane     \t sample-img/1004_ship.png\n",
      "dog     \t sample-img/1000_dog.png\n",
      "automobile     \t sample-img/1005_automobile.png\n",
      "bird     \t sample-img/1038_bird.png\n",
      "airplane     \t sample-img/1001_airplane.png\n",
      "horse     \t sample-img/1037_horse.png\n"
     ]
    }
   ],
   "source": [
    "predictions = [get_prediction(image) for image in images]\n",
    "\n",
    "print('Predictions','\\t\\t\\t','Actual')\n",
    "for pred, actual in zip(predictions,images):\n",
    "    print(pred,'    \\t',actual)"
   ]
  },
  {
   "cell_type": "code",
   "execution_count": null,
   "metadata": {},
   "outputs": [],
   "source": [
    "ic.delete_endpoint()"
   ]
  }
 ],
 "metadata": {
  "kernelspec": {
   "display_name": "conda_mxnet_p36",
   "language": "python",
   "name": "conda_mxnet_p36"
  },
  "language_info": {
   "codemirror_mode": {
    "name": "ipython",
    "version": 3
   },
   "file_extension": ".py",
   "mimetype": "text/x-python",
   "name": "python",
   "nbconvert_exporter": "python",
   "pygments_lexer": "ipython3",
   "version": "3.6.5"
  }
 },
 "nbformat": 4,
 "nbformat_minor": 4
}
