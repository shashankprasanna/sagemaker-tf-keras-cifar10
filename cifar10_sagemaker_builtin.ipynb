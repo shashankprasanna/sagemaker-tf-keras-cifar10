{
 "cells": [
  {
   "cell_type": "code",
   "execution_count": 1,
   "metadata": {},
   "outputs": [],
   "source": [
    "import sagemaker\n",
    "from sagemaker.mxnet import MXNet\n",
    "\n",
    "sagemaker_session = sagemaker.Session()\n",
    "role = sagemaker.get_execution_role()\n"
   ]
  },
  {
   "cell_type": "code",
   "execution_count": 7,
   "metadata": {},
   "outputs": [
    {
     "name": "stdout",
     "output_type": "stream",
     "text": [
      "433757028032.dkr.ecr.us-west-2.amazonaws.com/image-classification:latest\n"
     ]
    }
   ],
   "source": [
    "from sagemaker.amazon.amazon_estimator import get_image_uri\n",
    "\n",
    "training_image = get_image_uri(sagemaker_session.boto_region_name, 'image-classification', repo_version=\"latest\")\n",
    "print (training_image)"
   ]
  },
  {
   "cell_type": "code",
   "execution_count": 14,
   "metadata": {},
   "outputs": [],
   "source": [
    "#s3://sagemaker-container-webinar/cifar10-recordio/test.lst\n",
    "s3_output_location = 's3://sagemaker-container-webinar/'\n",
    "ic = sagemaker.estimator.Estimator(training_image,\n",
    "                                         role, \n",
    "                                         train_instance_count=1, \n",
    "                                         train_instance_type='ml.p3.2xlarge',\n",
    "                                         input_mode= 'File',\n",
    "                                         output_path=s3_output_location,\n",
    "                                         sagemaker_session=sagemaker_session)"
   ]
  },
  {
   "cell_type": "code",
   "execution_count": 15,
   "metadata": {},
   "outputs": [],
   "source": [
    "ic.set_hyperparameters(num_layers=50,\n",
    "                             image_shape = \"3,32,32\",\n",
    "                             num_classes=10,\n",
    "                             num_training_samples=50000,\n",
    "                             mini_batch_size=128,\n",
    "                             epochs=5,\n",
    "                             learning_rate=0.01,\n",
    "                             top_k=2,\n",
    "                             precision_dtype='float32')"
   ]
  },
  {
   "cell_type": "code",
   "execution_count": 16,
   "metadata": {},
   "outputs": [],
   "source": [
    "train_path = 's3://sagemaker-container-webinar/cifar10-recordio/train'\n",
    "val_path = 's3://sagemaker-container-webinar/cifar10-recordio/validation'\n",
    "\n",
    "train_data = sagemaker.session.s3_input(train_path, distribution='FullyReplicated', \n",
    "                        content_type='application/x-recordio', s3_data_type='S3Prefix')\n",
    "validation_data = sagemaker.session.s3_input(val_path, distribution='FullyReplicated', \n",
    "                             content_type='application/x-recordio', s3_data_type='S3Prefix')\n",
    "\n",
    "data_channels = {'train': train_data, 'validation': validation_data}"
   ]
  },
  {
   "cell_type": "code",
   "execution_count": null,
   "metadata": {},
   "outputs": [
    {
     "name": "stdout",
     "output_type": "stream",
     "text": [
      "2019-08-20 03:57:39 Starting - Starting the training job...\n",
      "2019-08-20 03:57:41 Starting - Launching requested ML instances......\n",
      "2019-08-20 03:58:42 Starting - Preparing the instances for training......\n",
      "2019-08-20 04:00:02 Downloading - Downloading input data...\n",
      "2019-08-20 04:00:19 Training - Downloading the training image...\n",
      "2019-08-20 04:01:07 Training - Training image download completed. Training in progress..\n",
      "\u001b[31mDocker entrypoint called with argument(s): train\u001b[0m\n",
      "\u001b[31m[08/20/2019 04:01:09 INFO 139949013919552] Reading default configuration from /opt/amazon/lib/python2.7/site-packages/image_classification/default-input.json: {u'beta_1': 0.9, u'gamma': 0.9, u'beta_2': 0.999, u'optimizer': u'sgd', u'use_pretrained_model': 0, u'eps': 1e-08, u'epochs': 30, u'lr_scheduler_factor': 0.1, u'num_layers': 152, u'image_shape': u'3,224,224', u'precision_dtype': u'float32', u'mini_batch_size': 32, u'weight_decay': 0.0001, u'learning_rate': 0.1, u'momentum': 0}\u001b[0m\n",
      "\u001b[31m[08/20/2019 04:01:09 INFO 139949013919552] Reading provided configuration from /opt/ml/input/config/hyperparameters.json: {u'learning_rate': u'0.01', u'top_k': u'2', u'precision_dtype': u'float32', u'epochs': u'5', u'num_training_samples': u'50000', u'num_layers': u'50', u'mini_batch_size': u'128', u'image_shape': u'3,224,224', u'num_classes': u'10'}\u001b[0m\n",
      "\u001b[31m[08/20/2019 04:01:09 INFO 139949013919552] Final configuration: {u'top_k': u'2', u'optimizer': u'sgd', u'learning_rate': u'0.01', u'epochs': u'5', u'lr_scheduler_factor': 0.1, u'num_layers': u'50', u'precision_dtype': u'float32', u'mini_batch_size': u'128', u'num_classes': u'10', u'beta_1': 0.9, u'beta_2': 0.999, u'use_pretrained_model': 0, u'eps': 1e-08, u'weight_decay': 0.0001, u'momentum': 0, u'image_shape': u'3,224,224', u'gamma': 0.9, u'num_training_samples': u'50000'}\u001b[0m\n",
      "\u001b[31m[08/20/2019 04:01:09 INFO 139949013919552] Searching for .rec files in /opt/ml/input/data/train.\u001b[0m\n",
      "\u001b[31m[08/20/2019 04:01:09 INFO 139949013919552] Searching for .rec files in /opt/ml/input/data/validation.\u001b[0m\n",
      "\u001b[31m[08/20/2019 04:01:09 ERROR 139949013919552] Customer Error: Unable to start training. Found an image in train data set with smaller dimensions (32, 32) than the 'image_shape' parameter. Please use a smaller value of 'data_shape' or use 'resize' parameter and try again.\u001b[0m\n",
      "\n",
      "2019-08-20 04:01:13 Uploading - Uploading generated training model\n",
      "2019-08-20 04:01:13 Failed - Training job failed\n"
     ]
    }
   ],
   "source": [
    "ic.fit(inputs=data_channels, logs=True)"
   ]
  },
  {
   "cell_type": "code",
   "execution_count": null,
   "metadata": {},
   "outputs": [],
   "source": [
    "ic_classifier = ic.deploy(initial_instance_count = 1, instance_type = 'ml.m4.xlarge')"
   ]
  },
  {
   "cell_type": "code",
   "execution_count": null,
   "metadata": {},
   "outputs": [],
   "source": [
    "from IPython.display import Image, display\n",
    "\n",
    "labels = ['airplane','automobile','bird','cat','deer','dog','frog','horse','ship','truck']\n",
    "images = []\n",
    "for entry in os.scandir('sample-img'):\n",
    "    if entry.is_file() and entry.name.endswith(\"png\"):\n",
    "        images.append('sample-img/' + entry.name)\n",
    "\n",
    "for image in images:\n",
    "    display(Image(image))\n",
    "    print(image)"
   ]
  },
  {
   "cell_type": "code",
   "execution_count": null,
   "metadata": {},
   "outputs": [],
   "source": [
    "predictor.content_type = 'application/x-image'\n",
    "predictor.serializer = None\n",
    "\n",
    "labels = ['airplane','automobile','bird','cat','deer','dog','frog','horse','ship','truck']\n",
    "\n",
    "def get_prediction(file_path):\n",
    "    \n",
    "    with open(file_path, \"rb\") as image:\n",
    "        f = image.read()\n",
    "    b = bytearray(f)\n",
    "    return labels[np.argmax(predictor.predict(b)['predictions'], axis=1)[0]]"
   ]
  },
  {
   "cell_type": "code",
   "execution_count": null,
   "metadata": {},
   "outputs": [],
   "source": [
    "predictions = [get_prediction(image) for image in images]\n",
    "\n",
    "print('Predictions','\\t\\t\\t','Actual')\n",
    "for pred, actual in zip(predictions,images):\n",
    "    print(pred,'\\t\\t\\t',actual)"
   ]
  },
  {
   "cell_type": "code",
   "execution_count": null,
   "metadata": {},
   "outputs": [],
   "source": [
    "ic.delete_endpoint()"
   ]
  }
 ],
 "metadata": {
  "kernelspec": {
   "display_name": "conda_mxnet_p36",
   "language": "python",
   "name": "conda_mxnet_p36"
  },
  "language_info": {
   "codemirror_mode": {
    "name": "ipython",
    "version": 3
   },
   "file_extension": ".py",
   "mimetype": "text/x-python",
   "name": "python",
   "nbconvert_exporter": "python",
   "pygments_lexer": "ipython3",
   "version": "3.6.5"
  }
 },
 "nbformat": 4,
 "nbformat_minor": 4
}
