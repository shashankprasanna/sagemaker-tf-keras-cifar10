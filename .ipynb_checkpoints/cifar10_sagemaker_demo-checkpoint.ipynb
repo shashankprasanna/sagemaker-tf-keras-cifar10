{
 "cells": [
  {
   "cell_type": "code",
   "execution_count": null,
   "metadata": {},
   "outputs": [],
   "source": [
    "import os\n",
    "import numpy as np\n",
    "import sagemaker\n",
    "from sagemaker.session import s3_input\n",
    "\n",
    "sagemaker_session = sagemaker.Session()\n",
    "role = sagemaker.get_execution_role()"
   ]
  },
  {
   "cell_type": "code",
   "execution_count": null,
   "metadata": {},
   "outputs": [],
   "source": [
    "hyperparams={'epochs': 1,\n",
    "                 'learning-rate': 0.01,\n",
    "                 'batch-size': 256,\n",
    "                 'weight-decay': 2e-4,\n",
    "                 'momentum': 0.9,\n",
    "                 'optimizer': 'sgd'}"
   ]
  },
  {
   "cell_type": "code",
   "execution_count": null,
   "metadata": {},
   "outputs": [],
   "source": [
    "from sagemaker.tensorflow import TensorFlow\n",
    "\n",
    "output_path = 's3://sagemaker-container-webinar/'\n",
    "tf_estimator = TensorFlow(entry_point='cifar10-training-script-sagemaker.py', \n",
    "                          source_dir='code',\n",
    "                          role=role,\n",
    "                          train_instance_count=1, \n",
    "                          train_instance_type='local',\n",
    "                          framework_version='1.13', \n",
    "                          py_version='py3',\n",
    "                          script_mode=True,\n",
    "                          output_path=output_path,\n",
    "                          hyperparameters=hyperparams)\n",
    "\n",
    "#train_instance_type = 'ml.p3.2xlarge'"
   ]
  },
  {
   "cell_type": "code",
   "execution_count": null,
   "metadata": {
    "scrolled": true
   },
   "outputs": [],
   "source": [
    "train_path = 's3://sagemaker-container-webinar/cifar10-dataset/train'\n",
    "val_path = 's3://sagemaker-container-webinar/cifar10-dataset/validation'\n",
    "eval_path = 's3://sagemaker-container-webinar/cifar10-dataset/eval'\n",
    "\n",
    "tf_estimator.fit({'training': train_path,'validation': val_path,'eval': eval_path})"
   ]
  },
  {
   "cell_type": "code",
   "execution_count": null,
   "metadata": {},
   "outputs": [],
   "source": [
    "predictor = tf_estimator.deploy(initial_instance_count=1, instance_type='ml.c5.large')"
   ]
  },
  {
   "cell_type": "code",
   "execution_count": null,
   "metadata": {},
   "outputs": [],
   "source": [
    "from IPython.display import Image, display\n",
    "\n",
    "labels = ['airplane','automobile','bird','cat','deer','dog','frog','horse','ship','truck']\n",
    "images = []\n",
    "for entry in os.scandir('sample-img'):\n",
    "    if entry.is_file() and entry.name.endswith(\"png\"):\n",
    "        images.append('sample-img/' + entry.name)\n",
    "\n",
    "for image in images:\n",
    "    display(Image(image))"
   ]
  },
  {
   "cell_type": "code",
   "execution_count": null,
   "metadata": {},
   "outputs": [],
   "source": [
    "import io\n",
    "import json\n",
    "labels = ['airplane','automobile','bird','cat','deer','dog','frog','horse','ship','truck']\n",
    "\n",
    "def get_prediction(file_path):\n",
    "    \n",
    "    with open(file_path, \"rb\") as image:\n",
    "        f = image.read()\n",
    "    b = bytearray(f)\n",
    "    image_as_bytes = io.BytesIO(b)\n",
    "    image = Image.open(image_as_bytes)\n",
    "    instance = np.expand_dims(image, axis=0)\n",
    "    json_dumps = json.dumps({\"instances\": instance.tolist()})\n",
    "    return predictor.predict(json_dumps)"
   ]
  },
  {
   "cell_type": "code",
   "execution_count": null,
   "metadata": {},
   "outputs": [],
   "source": [
    "get_prediction('sample-img/1009_frog.png')\n",
    "# return labels[np.argmax(predictor.predict()['predictions'], axis=1)[0]]"
   ]
  },
  {
   "cell_type": "code",
   "execution_count": null,
   "metadata": {},
   "outputs": [],
   "source": []
  },
  {
   "cell_type": "code",
   "execution_count": null,
   "metadata": {},
   "outputs": [],
   "source": [
    "predictions = [get_prediction(image) for image in images]\n",
    "print(predictions)"
   ]
  },
  {
   "cell_type": "code",
   "execution_count": null,
   "metadata": {},
   "outputs": [],
   "source": [
    "tf_estimator.delete_endpoint()"
   ]
  },
  {
   "cell_type": "code",
   "execution_count": null,
   "metadata": {},
   "outputs": [],
   "source": [
    "# from sagemaker.tuner import IntegerParameter, CategoricalParameter, ContinuousParameter, HyperparameterTuner\n",
    "\n",
    "# hyperparameter_ranges = {\n",
    "#     'epochs':        IntegerParameter(20, 100),\n",
    "#     'learning-rate': ContinuousParameter(0.001, 0.1, scaling_type='Logarithmic'), \n",
    "#     'batch-size':    IntegerParameter(32, 1024),\n",
    "#     'dense-layer':   IntegerParameter(128, 1024),\n",
    "#     'dropout':       ContinuousParameter(0.2, 0.6)\n",
    "# }\n",
    "\n",
    "# objective_metric_name = 'val_acc'\n",
    "# objective_type = 'Maximize'\n",
    "# metric_definitions = [{'Name': 'val_acc', 'Regex': 'val_acc: ([0-9\\\\.]+)'}]\n",
    "\n",
    "# tuner = HyperparameterTuner(tf_estimator,\n",
    "#                             objective_metric_name,\n",
    "#                             hyperparameter_ranges,\n",
    "#                             metric_definitions,\n",
    "#                             max_jobs=10,\n",
    "#                             max_parallel_jobs=2,\n",
    "#                             objective_type=objective_type)"
   ]
  }
 ],
 "metadata": {
  "kernelspec": {
   "display_name": "conda_tensorflow_p36",
   "language": "python",
   "name": "conda_tensorflow_p36"
  },
  "language_info": {
   "codemirror_mode": {
    "name": "ipython",
    "version": 3
   },
   "file_extension": ".py",
   "mimetype": "text/x-python",
   "name": "python",
   "nbconvert_exporter": "python",
   "pygments_lexer": "ipython3",
   "version": "3.6.5"
  }
 },
 "nbformat": 4,
 "nbformat_minor": 4
}
